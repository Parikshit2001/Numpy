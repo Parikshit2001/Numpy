{
 "cells": [
  {
   "cell_type": "markdown",
   "id": "ddb8d7c9",
   "metadata": {},
   "source": [
    "## Numpy Array operations"
   ]
  },
  {
   "cell_type": "code",
   "execution_count": 1,
   "id": "91ec5e7a",
   "metadata": {},
   "outputs": [],
   "source": [
    "import numpy as np"
   ]
  },
  {
   "cell_type": "code",
   "execution_count": 3,
   "id": "a8181166",
   "metadata": {},
   "outputs": [
    {
     "name": "stdout",
     "output_type": "stream",
     "text": [
      "Basic Slicing [3 4 5 6 7]\n",
      "With Step [2 4 6 8]\n",
      "Negative indexing 8\n"
     ]
    }
   ],
   "source": [
    "arr = np.array([1, 2, 3, 4, 5, 6, 7, 8, 9, 10])\n",
    "print(\"Basic Slicing\", arr[2: 7])\n",
    "print(\"With Step\", arr[1:8:2])\n",
    "print(\"Negative indexing\", arr[-3])"
   ]
  },
  {
   "cell_type": "code",
   "execution_count": 5,
   "id": "a4915574",
   "metadata": {},
   "outputs": [
    {
     "name": "stdout",
     "output_type": "stream",
     "text": [
      "Specific element 6\n",
      "Entire row:  [4 5 6]\n",
      "Entire column:  [3 6 9]\n"
     ]
    }
   ],
   "source": [
    "arr_2d = np.array([\n",
    "                  [1, 2, 3],\n",
    "                  [4, 5, 6],\n",
    "                  [7, 8, 9]\n",
    "                  ])\n",
    "\n",
    "print(\"Specific element\", arr_2d[1, 2])\n",
    "print(\"Entire row: \", arr_2d[1])\n",
    "print(\"Entire column: \", arr_2d[:, 2])"
   ]
  },
  {
   "cell_type": "markdown",
   "id": "56f60de5",
   "metadata": {},
   "source": [
    "## Sorting"
   ]
  },
  {
   "cell_type": "code",
   "execution_count": 10,
   "id": "54868ad6",
   "metadata": {},
   "outputs": [
    {
     "name": "stdout",
     "output_type": "stream",
     "text": [
      "Sorted Array [1 2 2 3 5 5 5 6 8]\n",
      "Sorted 2d array by column [[1 1]\n",
      " [2 2]\n",
      " [3 3]]\n",
      "Sorted 2d array by row [[1 3]\n",
      " [1 2]\n",
      " [2 3]]\n"
     ]
    }
   ],
   "source": [
    "unsorted = np.array([3, 1, 5, 2, 5, 6, 8, 2, 5])\n",
    "print(\"Sorted Array\", np.sort(unsorted))\n",
    "\n",
    "arr_2d_unsorted = np.array([\n",
    "                            [3, 1],\n",
    "                            [1, 2],\n",
    "                            [2, 3]\n",
    "                          ])\n",
    "print(\"Sorted 2d array by column\", np.sort(arr_2d_unsorted, axis=0)) #Maximum used\n",
    "print(\"Sorted 2d array by row\", np.sort(arr_2d_unsorted, axis=1))"
   ]
  },
  {
   "cell_type": "markdown",
   "id": "5489557b",
   "metadata": {},
   "source": [
    "## Filter"
   ]
  },
  {
   "cell_type": "code",
   "execution_count": 11,
   "id": "d93de065",
   "metadata": {},
   "outputs": [
    {
     "name": "stdout",
     "output_type": "stream",
     "text": [
      "Even numbers [ 2  4  6  8 10]\n"
     ]
    }
   ],
   "source": [
    "numbers = np.array([1, 2, 3, 4, 5, 6, 7, 8, 9, 10])\n",
    "even_numbers = numbers[numbers % 2 == 0]\n",
    "print(\"Even numbers\", even_numbers)"
   ]
  },
  {
   "cell_type": "markdown",
   "id": "6fad8ca7",
   "metadata": {},
   "source": [
    "## Filter with mask"
   ]
  },
  {
   "cell_type": "code",
   "execution_count": 12,
   "id": "cb280485",
   "metadata": {},
   "outputs": [
    {
     "name": "stdout",
     "output_type": "stream",
     "text": [
      "Numbers greater than 5 [ 6  7  8  9 10]\n"
     ]
    }
   ],
   "source": [
    "mask = numbers > 5\n",
    "print(\"Numbers greater than 5\", numbers[mask])"
   ]
  },
  {
   "cell_type": "markdown",
   "id": "2ad7c4ed",
   "metadata": {},
   "source": [
    "## Fancy indexing vs np.where()"
   ]
  },
  {
   "cell_type": "code",
   "execution_count": 16,
   "id": "5edae8c9",
   "metadata": {},
   "outputs": [
    {
     "name": "stdout",
     "output_type": "stream",
     "text": [
      "[1 3 5]\n",
      "(array([5, 6, 7, 8, 9]),)\n",
      "np where [ 6  7  8  9 10]\n"
     ]
    }
   ],
   "source": [
    "indices = [0, 2, 4]\n",
    "print(numbers[indices])\n",
    "\n",
    "where_result = np.where(numbers > 5)\n",
    "print(where_result)\n",
    "print(\"np where\", numbers[where_result])"
   ]
  },
  {
   "cell_type": "markdown",
   "id": "87a037d3",
   "metadata": {},
   "source": [
    "## condition Array"
   ]
  },
  {
   "cell_type": "code",
   "execution_count": 21,
   "id": "442060dd",
   "metadata": {},
   "outputs": [
    {
     "name": "stdout",
     "output_type": "stream",
     "text": [
      "[ 1  2  3  4  5 12 14 16 18 20]\n"
     ]
    }
   ],
   "source": [
    "condition_array = np.where(numbers > 5, numbers * 2, numbers)\n",
    "print(condition_array)\n",
    "# if(numbers > 5){\n",
    "#   numbers * 4\n",
    "# } else {\n",
    "#   numbers\n",
    "# }\n"
   ]
  },
  {
   "cell_type": "markdown",
   "id": "1015c062",
   "metadata": {},
   "source": [
    "## Adding and removing data"
   ]
  },
  {
   "cell_type": "code",
   "execution_count": 25,
   "id": "dc1a0dd8",
   "metadata": {},
   "outputs": [
    {
     "name": "stdout",
     "output_type": "stream",
     "text": [
      "[1 2 3 4 5 6]\n"
     ]
    }
   ],
   "source": [
    "arr1 = np.array([1, 2, 3])\n",
    "arr2 = np.array([4, 5, 6])\n",
    "\n",
    "combined = np.concatenate((arr1, arr2))\n",
    "print(combined)\n"
   ]
  },
  {
   "cell_type": "markdown",
   "id": "d039d69b",
   "metadata": {},
   "source": [
    "### Array compatibility"
   ]
  },
  {
   "cell_type": "code",
   "execution_count": 27,
   "id": "090642d9",
   "metadata": {},
   "outputs": [
    {
     "name": "stdout",
     "output_type": "stream",
     "text": [
      "Compatibility shapes True\n"
     ]
    }
   ],
   "source": [
    "a = np.array([1, 2, 3])\n",
    "b = np.array([4, 5, 6])\n",
    "c = np.array([7, 8, 9])\n",
    "print(\"Compatibility shapes\", a.shape == b.shape)"
   ]
  },
  {
   "cell_type": "code",
   "execution_count": 32,
   "id": "7cd77043",
   "metadata": {},
   "outputs": [
    {
     "name": "stdout",
     "output_type": "stream",
     "text": [
      "[[1 2]\n",
      " [3 4]]\n",
      "With new row [[1 2]\n",
      " [3 4]\n",
      " [5 6]]\n",
      "With new column [[1 2 7]\n",
      " [3 4 8]]\n"
     ]
    }
   ],
   "source": [
    "original = np.array([[1, 2], [3, 4]])\n",
    "new_row = np.array([[5, 6]])\n",
    "\n",
    "with_new_row = np.vstack((original, new_row))\n",
    "print(original)\n",
    "print(\"With new row\", with_new_row)\n",
    "\n",
    "new_col = np.array([[7], [8]])\n",
    "with_new_col = np.hstack((original, new_col))\n",
    "print(\"With new column\", with_new_col)"
   ]
  },
  {
   "cell_type": "code",
   "execution_count": 35,
   "id": "bda04055",
   "metadata": {},
   "outputs": [
    {
     "name": "stdout",
     "output_type": "stream",
     "text": [
      "Array after deletion [1 2 4 5]\n"
     ]
    }
   ],
   "source": [
    "arr = np.array([1, 2, 3, 4, 5])\n",
    "deleted = np.delete(arr, 2)\n",
    "print(\"Array after deletion\", deleted)"
   ]
  }
 ],
 "metadata": {
  "kernelspec": {
   "display_name": "venv",
   "language": "python",
   "name": "python3"
  },
  "language_info": {
   "codemirror_mode": {
    "name": "ipython",
    "version": 3
   },
   "file_extension": ".py",
   "mimetype": "text/x-python",
   "name": "python",
   "nbconvert_exporter": "python",
   "pygments_lexer": "ipython3",
   "version": "3.12.5"
  }
 },
 "nbformat": 4,
 "nbformat_minor": 5
}
